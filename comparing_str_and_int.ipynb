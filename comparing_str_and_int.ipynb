{
 "cells": [
  {
   "cell_type": "code",
   "execution_count": 1,
   "metadata": {},
   "outputs": [],
   "source": [
    "def isnumber(x):\n",
    "    try:\n",
    "        return type(float(x)) == float\n",
    "    except ValueError:\n",
    "        return False"
   ]
  },
  {
   "cell_type": "code",
   "execution_count": 2,
   "metadata": {},
   "outputs": [
    {
     "name": "stdout",
     "output_type": "stream",
     "text": [
      "Enter: d\n",
      "Non numerical\n"
     ]
    }
   ],
   "source": [
    "num = input('Enter: ')\n",
    "\n",
    "if isnumber(num) != True:\n",
    "    print('Non numerical')\n",
    "else:\n",
    "    if float(num) > 0:\n",
    "        print('Positive')\n",
    "    elif float(num) == 0:\n",
    "        print('Zero')\n",
    "    else:\n",
    "        print('Negative')"
   ]
  }
 ],
 "metadata": {
  "kernelspec": {
   "display_name": "Python 3",
   "language": "python",
   "name": "python3"
  },
  "language_info": {
   "codemirror_mode": {
    "name": "ipython",
    "version": 3
   },
   "file_extension": ".py",
   "mimetype": "text/x-python",
   "name": "python",
   "nbconvert_exporter": "python",
   "pygments_lexer": "ipython3",
   "version": "3.7.1"
  }
 },
 "nbformat": 4,
 "nbformat_minor": 2
}
